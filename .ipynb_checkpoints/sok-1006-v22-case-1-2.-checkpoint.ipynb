{
 "cells": [
  {
   "cell_type": "markdown",
   "id": "91100142-b8b8-4c2f-995c-db26466c7364",
   "metadata": {},
   "source": [
    "# Sok-1006 Mikroøkonomi"
   ]
  },
  {
   "cell_type": "markdown",
   "id": "2b69eb9a-c5b0-4ad6-ba29-d89f2135a404",
   "metadata": {},
   "source": [
    "## Mappeoppgave 1\n",
    "#### kandidatnr 1 og 11"
   ]
  },
  {
   "cell_type": "markdown",
   "id": "1cdf315a-62bb-4a6b-9cde-cca19cac4e61",
   "metadata": {},
   "source": [
    "#### Case 1"
   ]
  },
  {
   "cell_type": "markdown",
   "id": "2b242852-abaa-489e-b551-abec05339e45",
   "metadata": {
    "tags": []
   },
   "source": [
    "##### 1. \n",
    "Likning 1 viser «supply» funksjonen, hvor (qt) mengde er lik en gitt (a0) produktmengde + (a1) en annen gitt produktmengde * (pt) pris + (b2) en siste produktmengde * (wt) prisen på viktige produksjonsfaktorer + (ut) stokastiske forstyrrelser som representerer målefeil, en mengde individuelt uviktige utelatte variabler, og rent tilfeldige påvirkninger.  \n",
    "\n",
    "Likning 2 viser «demand» funksjonen, hvor (qt) mengde er lik en gitt (b0) produktmengde + (b1) en annen gitt produktmengde * (pt) pris + (b2) en siste produktmengde * (yt) inntektsnivået til potensielle etterspørrere + (vt) stokastiske forstyrrelser som representerer målefeil, en mengde individuelt uviktige utelatte variabler, og rent tilfeldige påvirkninger.\n",
    "\n",
    "Likning 1 og 2 har også flere underliggende variabler som vil si en «variabel som hverken er respons eller forklaringsvariabel, men som likevel kan bety noe for tolkningen av sammenhengen mellom de to variablene».\n"
   ]
  },
  {
   "cell_type": "markdown",
   "id": "df1f9464-4718-440a-89d6-9dbe5e6dbf7d",
   "metadata": {},
   "source": [
    "##### 2.\n",
    "I likning 4 er koeffisienten til y 0.852 inntektsnivået til potensielle etterspørrere, mens til p er det prisen. En naturlig siste variabel å legge til etterspørselsfunksjon er prisen på en erstatningsvare, så i ligning 4 er reell prisen på biff angitt som pb.\n",
    "Så kan vi også ta med at tallene i parentes er standardfeil, R2 statistikken er ujustert, SE er estimert standardavvik for forstyrrelsen, begrepDW er Durbin-Watson-statistikken, T er antall observasjoner. \n",
    "Forfatterne er ikke fornøyd med likning 4 som en spesifikasjon av tilbud og etterspørsel pga pb kommer inn med feil tegn (for en erstatning), og DW er fortsatt uakseptabelt lav, indikerer sterk autokorrelasjon. (Autokorrelasjon er et statistisk begrep for å beskrive samvariasjon i en observasjon av en variabel fra et punkt i tid til det neste.)   \n",
    "\n",
    "I likning 7 er koeffisienten til p prisen, mens pcor representerer den virkelige prisen på mais, en viktig innsatspris, gitt at mais er primærkorn brukt som kyllingfor. \n",
    "Så kan vi også ta med at tallene i parentes er standardfeil, R2 statistikken er ujustert, SE er estimert standardavvik for forstyrrelsen, begrepDW er Durbin-Watson-statistikken, T er antall observasjoner.\n",
    "Kyllingprisvariabelen pcor kommer inn med feil fortegn og gjenværende autokorrelasjon er sterk.\n"
   ]
  },
  {
   "cell_type": "markdown",
   "id": "5eda9d5d-6dbb-482a-9edd-a1c22cdc0efa",
   "metadata": {},
   "source": [
    "##### 3.\n",
    "For å finne etterspørselens priselastisitet for likning (14) bruker vi ligningen, men vi justerer på plassen til noen av verdiene slik at den blir på samme form som Cobb-Douglas produktfunksjon: ln (Q) = ln Z + a ln (P). Det er 'a'-en vi er ute etter å finne, for den er etterspørselens priselastisitet.    \n",
    "Likning 14 ser sånn ut: \n",
    "\n",
    "ln⁡(P)=[ln(Q)-(-4.507+0.841*y+0.2775*pb)]/(-0.397) \n",
    "\n",
    "Vi ønsker å bytte på plasseringen til ln(P) og ln(Q) slik at det står ln(Q) = [   ] ln(P) , deretter vil vi få -0.397 over på samme side som ln(Q).\n",
    "Nå ser ligningen ut som dette: -0.397*ln(P)=ln(Q)-[   ], siste steg er å flytte -[   ] over på andre siden. \n",
    "Tilslutt ser ligning (14) altså slik ut: ln(Q)= [   ]-0.397 ln(P)\n",
    "\n",
    "Det vi fant ut ved å gjøre denne utregningen er at etterspørselens priselastisitet er -0.397. Etterspørselens priselastisitet er et mål på prisfølsomhet og måler hvor mange prosent etterspørselen etter et gode endres når prisen endres med 1 %. \n",
    "Så kort forklart vil en 1 % økning i pris føre til at etterspørselens priselastisitet faller med -0.397.\n",
    "\n",
    "( [___] Over er det samme som -(-4.507+0.841*y+0.2775*pb), men vi unngår å skrive det.)"
   ]
  },
  {
   "cell_type": "markdown",
   "id": "143b3d09-ecbc-4a40-abfe-c1ada6242f20",
   "metadata": {},
   "source": [
    "##### 4"
   ]
  },
  {
   "cell_type": "code",
   "execution_count": null,
   "id": "4cfe9572-b588-42ac-88cd-40d430265b68",
   "metadata": {},
   "outputs": [],
   "source": [
    "# Laster inn nødvendige pakker.\n",
    "import matplotlib.pyplot as plt\n",
    "import pandas as pd\n",
    "import sympy as sp\n",
    "import numpy as np\n",
    "# Denne pakken brukes til å fjerne unødvendige varsler.\n",
    "import warnings\n",
    "warnings.filterwarnings('ignore')\n",
    "\n",
    "# 1.\n",
    "def demand_curve(c,Q,y,pb):\n",
    "    #Programmer ligning 14 her. Bruk c.log() for å regne ut logaritmen.\n",
    "    demand = (c.log(Q)-(-4.507+0.841*y+0.2775*pb)) / (-0.397)\n",
    "    return demand\n",
    "\n",
    "\n",
    "def supply_curve_long_run(c,Q,N,X,pf,t):\n",
    "    #Programmer ligning 15 her. Bruk c.log() for å regne ut logaritmen.\n",
    "    supply = ((1-0.631)*c.log(N*Q+X)-(2.030-0.14*pf+0.0184*t)) / 0.221\n",
    "    return supply\n",
    "\n",
    "\n",
    "def supply_curve_short_run(c,Q,N,X,pf,t,Q_fitted):\n",
    "    #Programmer ligning 16 her. Bruk c.log() for å regne ut logaritmen.\n",
    "\t#TIPS: qprod i ligningen er (N*Q_fitted+X) her. \n",
    "    supply = ((c.log(N*Q+X)-(2.030-0.146*pf+0.0184*t+0.631*c.log(N*Q_fitted+X)))) / 0.221\n",
    "    return supply\n",
    "\n",
    "# 2.\n",
    "def equate_q(y,pb,N,X,pf,t):\n",
    "    #Finn verdien for Q som gør at demand_curve og supply_curve_long_run returnerer samme verdi.\n",
    "    #Bruk sp.Eq, og la første argument i funksjonene over være sp\n",
    "    Q = sp.symbols('Q')\n",
    "    eq = sp.Eq(demand_curve(sp,Q,y,pb), supply_curve_long_run(sp,Q,N,X,pf,t))\n",
    "    sol = sp.nsolve(eq, 40)\n",
    "    return float(sol)\n",
    "\n",
    "# 3.\n",
    "def plot_year(df,year):\n",
    "    #obtaining the relevant variables for year:\n",
    "    d=df[df['YEAR']==year].to_dict(orient='records')[0]\n",
    "    cpi=d['CPI']\n",
    "    y=np.log(d['Y'])\n",
    "    pb=np.log(d['PBEEF']/cpi)\n",
    "    N=d['POP']\n",
    "    X=d['QPRODA']/1439-d['Q']*d['POP']\n",
    "    pf=np.log(d['PF']/cpi)\n",
    "    t=d['TIME']\n",
    "    \n",
    "    \n",
    "    #obtaining equilibrium quantity:\n",
    "    Q_fitted=equate_q(y,pb,N,X,pf,t)  \n",
    "    \n",
    "\n",
    "    #plotting the functions:\n",
    "    #plot alle tre funksjonene her. \n",
    "    #Husk at \n",
    "    #1. funksjonene skal opphøyes i eksponenten (dvs. du bruker np.exp(<funksjon>)) for å uttrykkes i nivå\n",
    "    #2. så skal de multipliseres med cpi\n",
    "    #3. første argument er np her, ikke sp. \n",
    "    Q = np.linspace(0.001,80,100) # linespace gjør at man velger intervallet til grafen, litt som [start stopp].\n",
    "    plt.plot(Q, (np.exp(supply_curve_short_run(np,Q,N,X,pf,t,Q_fitted)) * cpi), label='Supply short run') # Plotter supply \n",
    "    plt.plot(Q, (np.exp(supply_curve_long_run(np,Q,N,X,pf,t)) * cpi), label='Supply long run') # Plotter supply_long_run\n",
    "    plt.plot(Q, (np.exp(demand_curve(np,Q,y,pb)) * cpi), label='Demand') # Plotter demand_curve.\n",
    "    plt.plot(Q, (np.exp(demand_curve(np,Q+0.5,y,pb)) * cpi), label='Demand 2') # Plotter med 0.5 økning i kvantum.\n",
    "    plt.plot(Q, (np.exp(demand_curve(np,Q,y+0.5,pb)) * cpi), label='Demand 3') # Plotter med 0.5 økning i pris.\n",
    "    plt.plot(Q, (np.exp(demand_curve(np,Q,y,pb+0.5)) * cpi), label='Demand 4') # Plotter med 0.5 økning i storfekjøtt.\n",
    "    plt.legend (loc='upper left', frameon=False) # Legger inn navn på grafene i venstre hjørne.\n",
    "    plt.xlabel('Q') # Velger aksenavn på x-aksen.\n",
    "    plt.ylabel('P') # Velger aksenavn på y-aksen.\n",
    "             \n",
    "    plt.ylim([0, 400]) # Velger maks lengde på y-aksen.\n",
    "    plt.xlim([0, 80]) # Velger maks lengde på x-aksen.\n",
    "\n",
    "    plt.show() # \"Viser grafen\"."
   ]
  },
  {
   "cell_type": "markdown",
   "id": "a3fef790-59dd-447e-bb6b-538536fd8768",
   "metadata": {},
   "source": [
    "##### 5"
   ]
  },
  {
   "cell_type": "code",
   "execution_count": null,
   "id": "3d394d64-652a-4a15-8531-b0cf2de12f7b",
   "metadata": {},
   "outputs": [],
   "source": [
    "# Leser av en csv fil som inneholder alle tall og verdier vi får bruk for til plotting.\n",
    "df=pd.read_csv(\"https://uit-sok-1006-v22.github.io/innleveringer/chickendata.csv\",delimiter=\";\")"
   ]
  },
  {
   "cell_type": "markdown",
   "id": "f3259238-4113-4ebc-b91a-d861130b2e60",
   "metadata": {},
   "source": [
    "##### 6 og 7"
   ]
  },
  {
   "cell_type": "markdown",
   "id": "0f56bf40-222d-4f52-97f1-2086a530c017",
   "metadata": {},
   "source": [
    "## Figur 1"
   ]
  },
  {
   "cell_type": "code",
   "execution_count": null,
   "id": "6987ea89-6474-40e6-836a-ad53acad1e68",
   "metadata": {},
   "outputs": [],
   "source": [
    "plot_year(df,1995)"
   ]
  },
  {
   "cell_type": "markdown",
   "id": "573cd0d1-a66a-4c14-ad88-9ac4616994c9",
   "metadata": {},
   "source": [
    "Figur 1 viser pris og mengde for kyllingfor i år 1995, som vi kan se er skiftet utover i tilbudskurven et resultat av et fall i prisen på primæren input (kyllingfor) med omtrent 50 % og til en betydelig produktivitetsøkning for kylling produksjon."
   ]
  },
  {
   "cell_type": "markdown",
   "id": "3e6138ee-6d6e-4a5f-9971-373917be96a3",
   "metadata": {},
   "source": [
    "Demand 2,3 og 4 er ytterligere tre plott der det er lagt til 0.5 til henholdsvis kvantum(Q), inntekt(y) og storfekjøtt(pb).\n",
    "Høyreskift i etterspørselen vil alltid føre til økt pris og økt omsatt mengde i markedet og kan skyldes disse hendelsene:\n",
    "##### Hendelse 1 for demand 2: \n",
    "Prisen økes og kvantumet(mengden) reduseres, noe som fører til et lite venstreskift i grafen.\n",
    "\n",
    "##### Hendelse 2 for demand 3: \n",
    "Økt inntekt fører til økt etterspørsel og vi får høyreskift i grafen.\n",
    "\n",
    "##### Hendelse 3 for demand 4: \n",
    "Prisen på det alternative gode (saus) øker og dette fører til at vi får et høyreskift i grafen."
   ]
  },
  {
   "cell_type": "markdown",
   "id": "8109c803-ffc2-493d-979c-ffa642b70111",
   "metadata": {},
   "source": [
    "Vi finner likevekten i markedet i skjæringspunktet mellom tilbudskurven supply short run og etterspørselskruven demand, det vil si der tilbud er lik etterspørsel. I likevektspunktet får alle som ønsker og selge, solg alt de vil, samtidig som alle som ønsker å kjøpe, får kjøpt alt de ønsker. Funksjonen nedenfor viser dette, hvor S = supply og D = demand."
   ]
  },
  {
   "cell_type": "code",
   "execution_count": null,
   "id": "c1ec4cec-ac9c-429a-a5ec-d916fb67eb57",
   "metadata": {
    "jupyter": {
     "source_hidden": true
    },
    "tags": []
   },
   "outputs": [],
   "source": [
    "X,S,D = sp.symbols('X S D')\n",
    "p_eq=sp.Eq(X**S,X**D)\n",
    "p_eq"
   ]
  },
  {
   "cell_type": "markdown",
   "id": "0146df6e-b17b-4341-9529-42f64a72045e",
   "metadata": {},
   "source": [
    "For hver av hendelsene over øker likevektsprisen(P) og likevektsmengden(Q), men alle er like fornøyd pga selv om prisen stiger så stiger også etterspørselen og mengden produsert. (Likevektsprisen er den prisen som gjør at tilbud er lik etterspørsel i markedet, mens likevektsmengden er det samme bare med mengden).\n"
   ]
  },
  {
   "cell_type": "markdown",
   "id": "be72192a-b5cc-4189-bdfd-15e54ff53b1c",
   "metadata": {},
   "source": [
    "## Figur 2"
   ]
  },
  {
   "cell_type": "code",
   "execution_count": null,
   "id": "2a20bf2a-ecd4-47d3-851e-241ead127257",
   "metadata": {},
   "outputs": [],
   "source": [
    "plot_year(df,1960)"
   ]
  },
  {
   "cell_type": "markdown",
   "id": "0d9dc902-ac67-4ca4-80d1-e987a28d656a",
   "metadata": {},
   "source": [
    "Figur 2 viser pris og mengde for kyllingfor i år 1960, som vi kan se var skiftet utover i tilbudet raskere enn det ytre skiftet i etterspørselen, som fører til et betydelig fall i den reelle prisen på kylling over 35-årsintervallet. Detter er årsaken til at alle grafene har fått et enormt venstreskift, noe som tyder på lav pris og lav produsert mengde i markedet"
   ]
  },
  {
   "cell_type": "markdown",
   "id": "93c805f2-33c4-4449-8b62-86004cacd2cb",
   "metadata": {},
   "source": [
    "## Litteraturliste\n",
    "* (ingen dato). Tilgjengelig på: https://uit-sok-1006-v22.github.io/innleveringer/mappeoppgave_1.html (Åpnet: 12. april 2022).\n",
    "\n",
    "* (ingen dato). Tilgjengelig på: https://uit-sok-1006-v22.github.io/innleveringer/chicken_economicinquiry%20merket.pdf (Åpnet: 12. april 2022)."
   ]
  }
 ],
 "metadata": {
  "kernelspec": {
   "display_name": "Python 3 (ipykernel)",
   "language": "python",
   "name": "python3"
  },
  "language_info": {
   "codemirror_mode": {
    "name": "ipython",
    "version": 3
   },
   "file_extension": ".py",
   "mimetype": "text/x-python",
   "name": "python",
   "nbconvert_exporter": "python",
   "pygments_lexer": "ipython3",
   "version": "3.9.9"
  }
 },
 "nbformat": 4,
 "nbformat_minor": 5
}
